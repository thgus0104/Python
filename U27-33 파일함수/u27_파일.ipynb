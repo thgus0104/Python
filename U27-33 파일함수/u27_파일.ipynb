{
  "nbformat": 4,
  "nbformat_minor": 0,
  "metadata": {
    "colab": {
      "name": "u27_파일.ipynb",
      "provenance": [],
      "collapsed_sections": []
    },
    "kernelspec": {
      "name": "python3",
      "display_name": "Python 3"
    },
    "language_info": {
      "name": "python"
    }
  },
  "cells": [
    {
      "cell_type": "markdown",
      "metadata": {
        "id": "xxEJIOPXmij8"
      },
      "source": [
        "# Unit 27. 파일\n",
        "- 파일의 종류\n",
        "  - 문자 파일\n",
        "  - binary 파일(처리해주는 프로그램 필요)\n",
        "    * 엑셀처럼"
      ]
    },
    {
      "cell_type": "code",
      "metadata": {
        "colab": {
          "base_uri": "https://localhost:8080/"
        },
        "id": "OqUuGU__CSVO",
        "outputId": "82e993be-c78f-4e26-944a-a5492ff9fa13"
      },
      "source": [
        "ls -l sample_data/\n",
        "# rwx 오너에 대한 권한(read,write,access)\n",
        "# r-x 그룹에 대한 권한(read,access)"
      ],
      "execution_count": null,
      "outputs": [
        {
          "output_type": "stream",
          "text": [
            "total 55504\n",
            "-rwxr-xr-x 1 root root     1697 Jan  1  2000 \u001b[0m\u001b[01;32manscombe.json\u001b[0m*\n",
            "-rw-r--r-- 1 root root   301141 Jul 16 13:20 california_housing_test.csv\n",
            "-rw-r--r-- 1 root root  1706430 Jul 16 13:20 california_housing_train.csv\n",
            "-rw-r--r-- 1 root root 18289443 Jul 16 13:20 mnist_test.csv\n",
            "-rw-r--r-- 1 root root 36523880 Jul 16 13:20 mnist_train_small.csv\n",
            "-rwxr-xr-x 1 root root      930 Jan  1  2000 \u001b[01;32mREADME.md\u001b[0m*\n"
          ],
          "name": "stdout"
        }
      ]
    },
    {
      "cell_type": "markdown",
      "metadata": {
        "id": "BbQMwC9Uml98"
      },
      "source": [
        "## 27.1 문자열 쓰기, 읽기(파이썬스타일X)"
      ]
    },
    {
      "cell_type": "code",
      "metadata": {
        "id": "iXGXyl50mEju"
      },
      "source": [
        "file = open('hello.txt', 'w') #write mode (read mode/append mode 도 존재)\n",
        "file.write('Hello, world!')\n",
        "file.close() #좌측에서 파일 리스트 열어 만들어진 파일 확인"
      ],
      "execution_count": null,
      "outputs": []
    },
    {
      "cell_type": "code",
      "metadata": {
        "colab": {
          "base_uri": "https://localhost:8080/"
        },
        "id": "zG2LC4fenEJX",
        "outputId": "f81af415-de33-4884-fa1e-8a70e203bac8"
      },
      "source": [
        "#파일 내용 불러오는 방법\n",
        "# cat은 unix 명령어(맥)(윈도우에서는 type)\n",
        "!cat hello.txt"
      ],
      "execution_count": null,
      "outputs": [
        {
          "output_type": "stream",
          "text": [
            "Hello, world!"
          ],
          "name": "stdout"
        }
      ]
    },
    {
      "cell_type": "code",
      "metadata": {
        "colab": {
          "base_uri": "https://localhost:8080/"
        },
        "id": "fxrBdgAMnLCo",
        "outputId": "9ee19bcb-84d0-4894-a95d-9b3f1b2439b8"
      },
      "source": [
        "file = open('hello.txt')    # 'r' mode가 default라서 꼭 r모드라고 안써줘도 됨\n",
        "s = file.read()\n",
        "print(s)\n",
        "file.close() #파일 클로즈 안하면 프로그램안의 쓰레기가 되니까 close 반드시 필요"
      ],
      "execution_count": null,
      "outputs": [
        {
          "output_type": "stream",
          "text": [
            "Hello, world!\n"
          ],
          "name": "stdout"
        }
      ]
    },
    {
      "cell_type": "markdown",
      "metadata": {
        "id": "1D887v1Upg1R"
      },
      "source": [
        "### 파이썬 스타일\n",
        "파일을 열 때마다 매번 close로 닫으려니 좀 귀찮습니다. 파이썬에서는 with as를 사용하면 파일을 사용한 뒤 자동으로 파일 객체를 닫아줍니다. 다음과 같이 with 다음에 open으로 파일을 열고 as 뒤에 파일 객체를 지정합니다."
      ]
    },
    {
      "cell_type": "code",
      "metadata": {
        "colab": {
          "base_uri": "https://localhost:8080/"
        },
        "id": "Nw3uNIq-pWek",
        "outputId": "4d21a6f7-14a2-4e3f-9a2a-17c826a4edad"
      },
      "source": [
        "with open('hello.txt') as file: #마찬가지로 r 생략 가능\n",
        "    s = file.read()\n",
        "print(s)"
      ],
      "execution_count": null,
      "outputs": [
        {
          "output_type": "stream",
          "text": [
            "Hello, world!\n"
          ],
          "name": "stdout"
        }
      ]
    },
    {
      "cell_type": "markdown",
      "metadata": {
        "id": "Z5HvlRAhqBei"
      },
      "source": [
        "## 27.2 문자열 여러줄"
      ]
    },
    {
      "cell_type": "code",
      "metadata": {
        "id": "gSJMqunppr13"
      },
      "source": [
        "with open('hello.txt', 'w') as file:\n",
        "    for i in range(3): #range(3)은 0,1,2 포함\n",
        "        file.write(f'Hello, world! {i+1}\\n')\n",
        "        #file. write(f'Hello, world! {0}\\n'.format(i)) =>0,1,2로 해서 3줄나옴"
      ],
      "execution_count": null,
      "outputs": []
    },
    {
      "cell_type": "code",
      "metadata": {
        "colab": {
          "base_uri": "https://localhost:8080/"
        },
        "id": "4KGb6Mbzqy0S",
        "outputId": "71110a2a-a665-443a-8909-3620700d0514"
      },
      "source": [
        "!cat hello.txt"
      ],
      "execution_count": null,
      "outputs": [
        {
          "output_type": "stream",
          "text": [
            "Hello, world! 1\n",
            "Hello, world! 2\n",
            "Hello, world! 3\n"
          ],
          "name": "stdout"
        }
      ]
    },
    {
      "cell_type": "code",
      "metadata": {
        "id": "6N4AZEujq1De"
      },
      "source": [
        "lines = ['안녕하세요.\\n', '파이썬\\n', '코딩도장입니다.\\n']\n",
        "with open('hello.txt', 'w') as file:\n",
        "    file.writelines(lines)\n",
        "    #writelines,readlines 등 뒤에 lines를 붙이면 한줄씩 순차적으로 인식"
      ],
      "execution_count": null,
      "outputs": []
    },
    {
      "cell_type": "code",
      "metadata": {
        "colab": {
          "base_uri": "https://localhost:8080/"
        },
        "id": "3l3_SKGurpXz",
        "outputId": "66a6d6d1-eb61-4d45-9a2a-8783722ecd17"
      },
      "source": [
        "!cat hello.txt"
      ],
      "execution_count": null,
      "outputs": [
        {
          "output_type": "stream",
          "text": [
            "안녕하세요.\n",
            "파이썬\n",
            "코딩도장입니다."
          ],
          "name": "stdout"
        }
      ]
    },
    {
      "cell_type": "code",
      "metadata": {
        "id": "Ru98vQmSrsc9"
      },
      "source": [
        "s = '''안녕하세요.\n",
        "파이썬\n",
        "코딩도장입니다.'''\n",
        "with open('hello.txt', 'w') as file:\n",
        "    file.write(s)"
      ],
      "execution_count": null,
      "outputs": []
    },
    {
      "cell_type": "code",
      "metadata": {
        "colab": {
          "base_uri": "https://localhost:8080/"
        },
        "id": "UXdapoZqsus2",
        "outputId": "f413c7d3-bc07-48c5-d7bd-afbdf8b63795"
      },
      "source": [
        "with open('hello.txt') as file:\n",
        "    s = file.read()\n",
        "print(s)"
      ],
      "execution_count": null,
      "outputs": [
        {
          "output_type": "stream",
          "text": [
            "안녕하세요.\n",
            "파이썬\n",
            "코딩도장입니다.\n"
          ],
          "name": "stdout"
        }
      ]
    },
    {
      "cell_type": "code",
      "metadata": {
        "colab": {
          "base_uri": "https://localhost:8080/"
        },
        "id": "szeCVCMFtCiS",
        "outputId": "f509d702-ff7b-4ecf-e94e-51750401ddb1"
      },
      "source": [
        "with open('hello.txt') as file:\n",
        "    s = file.readline() #문자열 중 1줄만 읽어서 s에 저장해준다.\n",
        "print(s)"
      ],
      "execution_count": null,
      "outputs": [
        {
          "output_type": "stream",
          "text": [
            "안녕하세요.\n",
            "\n"
          ],
          "name": "stdout"
        }
      ]
    },
    {
      "cell_type": "code",
      "metadata": {
        "colab": {
          "base_uri": "https://localhost:8080/"
        },
        "id": "Z1q-RilUtKJ6",
        "outputId": "4ec3f1e0-d546-47ba-b554-083497bbb11c"
      },
      "source": [
        "with open('hello.txt') as file:\n",
        "    line = None\n",
        "    #라인을 None으로 놓지 않으면 공백인 상태이므로 밑의 줄에서 더이상 출력이 불가능 하게 됨\n",
        "    while line != '': \n",
        "      #라인이 공백이 아니라면 계속 반복해주세요라는 의미\n",
        "      #(readline은 더이상 읽을 라인이 없을 때 공백을 출력)\n",
        "      #조건이 충족할 때까지 반복인데 그게 언제인지 모르니까 while 사용\n",
        "        line = file.readline()\n",
        "        print(line.strip('\\n')) #strip=()안에 있는거 빼고 표시해주세요라는 뜻"
      ],
      "execution_count": null,
      "outputs": [
        {
          "output_type": "stream",
          "text": [
            "안녕하세요.\n",
            "파이썬\n",
            "코딩도장입니다.\n",
            "\n"
          ],
          "name": "stdout"
        }
      ]
    },
    {
      "cell_type": "code",
      "metadata": {
        "colab": {
          "base_uri": "https://localhost:8080/"
        },
        "id": "P3w6_PCzpN6z",
        "outputId": "4b7fe7fe-dd9b-4d45-b741-66042b01a8a4"
      },
      "source": [
        "with open('hello.txt') as file:\n",
        "    line = None\n",
        "    while line != '':\n",
        "        line = file.readline()\n",
        "        print(line) #strip을 하지 않으면 원본에서 \\n한번 인식, print할 때 한번 더 인식헤서 두번씩 줄바꿈됨"
      ],
      "execution_count": null,
      "outputs": [
        {
          "output_type": "stream",
          "text": [
            "안녕하세요.\n",
            "\n",
            "파이썬\n",
            "\n",
            "코딩도장입니다.\n",
            "\n"
          ],
          "name": "stdout"
        }
      ]
    },
    {
      "cell_type": "code",
      "metadata": {
        "colab": {
          "base_uri": "https://localhost:8080/"
        },
        "id": "JZLG-AHxt2L2",
        "outputId": "57208de0-c56e-4b12-fb80-be30ab41d6f6"
      },
      "source": [
        "with open('hello.txt') as file:\n",
        "    for line in file: #파일이라는 객체를 지정->라인이라는 변수에 저장\n",
        "        print(line.strip('\\n'))"
      ],
      "execution_count": null,
      "outputs": [
        {
          "output_type": "stream",
          "text": [
            "안녕하세요.\n",
            "파이썬\n",
            "코딩도장입니다.\n"
          ],
          "name": "stdout"
        }
      ]
    },
    {
      "cell_type": "code",
      "metadata": {
        "colab": {
          "base_uri": "https://localhost:8080/"
        },
        "id": "hPMHv7sGw9Ok",
        "outputId": "fb1d44c3-844b-4db7-d0b8-6c18cc1af4f5"
      },
      "source": [
        "#언제 for 반복문을 사용할 수 있는지\n",
        "dir(file)   # __iter__ 가 정의되어 있으면 for문 사용가능"
      ],
      "execution_count": null,
      "outputs": [
        {
          "output_type": "execute_result",
          "data": {
            "text/plain": [
              "['_CHUNK_SIZE',\n",
              " '__class__',\n",
              " '__del__',\n",
              " '__delattr__',\n",
              " '__dict__',\n",
              " '__dir__',\n",
              " '__doc__',\n",
              " '__enter__',\n",
              " '__eq__',\n",
              " '__exit__',\n",
              " '__format__',\n",
              " '__ge__',\n",
              " '__getattribute__',\n",
              " '__getstate__',\n",
              " '__gt__',\n",
              " '__hash__',\n",
              " '__init__',\n",
              " '__init_subclass__',\n",
              " '__iter__',\n",
              " '__le__',\n",
              " '__lt__',\n",
              " '__ne__',\n",
              " '__new__',\n",
              " '__next__',\n",
              " '__reduce__',\n",
              " '__reduce_ex__',\n",
              " '__repr__',\n",
              " '__setattr__',\n",
              " '__sizeof__',\n",
              " '__str__',\n",
              " '__subclasshook__',\n",
              " '_checkClosed',\n",
              " '_checkReadable',\n",
              " '_checkSeekable',\n",
              " '_checkWritable',\n",
              " '_finalizing',\n",
              " 'buffer',\n",
              " 'close',\n",
              " 'closed',\n",
              " 'detach',\n",
              " 'encoding',\n",
              " 'errors',\n",
              " 'fileno',\n",
              " 'flush',\n",
              " 'isatty',\n",
              " 'line_buffering',\n",
              " 'mode',\n",
              " 'name',\n",
              " 'newlines',\n",
              " 'read',\n",
              " 'readable',\n",
              " 'readline',\n",
              " 'readlines',\n",
              " 'reconfigure',\n",
              " 'seek',\n",
              " 'seekable',\n",
              " 'tell',\n",
              " 'truncate',\n",
              " 'writable',\n",
              " 'write',\n",
              " 'write_through',\n",
              " 'writelines']"
            ]
          },
          "metadata": {
            "tags": []
          },
          "execution_count": 17
        }
      ]
    },
    {
      "cell_type": "code",
      "metadata": {
        "colab": {
          "base_uri": "https://localhost:8080/"
        },
        "id": "kW-5UVl7xwrx",
        "outputId": "38da472b-90da-41e4-de30-21cfac352667"
      },
      "source": [
        "with open('hello.txt') as file:\n",
        "    s = file.read(9) #0부터 8까지 9글자 출력인데 아마 엔터도 하나로 포함하는 듯\n",
        "print(s)"
      ],
      "execution_count": null,
      "outputs": [
        {
          "output_type": "stream",
          "text": [
            "안녕하세요.\n",
            "파이\n"
          ],
          "name": "stdout"
        }
      ]
    },
    {
      "cell_type": "markdown",
      "metadata": {
        "id": "TGgIsvlkyyXN"
      },
      "source": [
        "### append"
      ]
    },
    {
      "cell_type": "code",
      "metadata": {
        "id": "IVOXhbyMybqQ"
      },
      "source": [
        "with open('hello.txt', 'a') as file: #모드 a=append 즉, 파일 끝에 추가하는 모드\n",
        "    file.write('Append\\n')"
      ],
      "execution_count": null,
      "outputs": []
    },
    {
      "cell_type": "code",
      "metadata": {
        "colab": {
          "base_uri": "https://localhost:8080/"
        },
        "id": "rnaj16gbzKFP",
        "outputId": "e2661876-7165-4c69-eb12-237d2b655587"
      },
      "source": [
        "!cat hello.txt"
      ],
      "execution_count": null,
      "outputs": [
        {
          "output_type": "stream",
          "text": [
            "안녕하세요.\n",
            "파이썬\n",
            "코딩도장입니다.Append\n"
          ],
          "name": "stdout"
        }
      ]
    },
    {
      "cell_type": "markdown",
      "metadata": {
        "id": "DcMVwft6zaLL"
      },
      "source": [
        "### binary mode"
      ]
    },
    {
      "cell_type": "code",
      "metadata": {
        "id": "LF8hYLGFzN1u",
        "colab": {
          "base_uri": "https://localhost:8080/"
        },
        "outputId": "a1d4a82c-a728-4a5a-db50-009a76c8a1b3"
      },
      "source": [
        "with open('chairs.jpg', 'rb') as bin:\n",
        "    x = bin.read(10)\n",
        "\n",
        "print(x)"
      ],
      "execution_count": null,
      "outputs": [
        {
          "output_type": "stream",
          "text": [
            "b'\\xff\\xd8\\xff\\xe0\\x00\\x10JFIF'\n"
          ],
          "name": "stdout"
        }
      ]
    },
    {
      "cell_type": "markdown",
      "metadata": {
        "id": "ghXiyaNY04T2"
      },
      "source": [
        "## 27.3 파이썬 객체 읽고 쓰기\n",
        "\n",
        "1.   피클링:파이썬 객체를 파일에 저장(pickle.dump)\n",
        "2.   언피클링: 파일 열기(pickle.load)\n",
        "\n"
      ]
    },
    {
      "cell_type": "markdown",
      "metadata": {
        "id": "9N2lQXsLr0yB"
      },
      "source": [
        "피클 사용시 임의 확장자 .p 사용 \\\n",
        "저장할 때는 파일모드를 wb로 지정 \\\n",
        "(바이너리는 컴퓨터가 파일처리하는 형식) \\\n"
      ]
    },
    {
      "cell_type": "code",
      "metadata": {
        "id": "PXNjMzd60N0X"
      },
      "source": [
        "import pickle\n",
        "\n",
        "scores = {'kor':90, 'eng':90, 'mat':80}\n",
        "with open('binary.pkl', 'wb') as file: #wb = write binary\n",
        "    pickle.dump(scores, file)"
      ],
      "execution_count": null,
      "outputs": []
    },
    {
      "cell_type": "code",
      "metadata": {
        "colab": {
          "base_uri": "https://localhost:8080/"
        },
        "id": "s14PCFc_1hiR",
        "outputId": "d99410ad-399a-42a1-fd9f-888f5761f437"
      },
      "source": [
        "!cat binary.pkl\n",
        "#binary는 컴퓨터가 알아보도록 만든거라 출력해서 봐도 뭔말인지 우리는 모름"
      ],
      "execution_count": null,
      "outputs": [
        {
          "output_type": "stream",
          "text": [
            "�\u0003}q\u0000(X\u0003\u0000\u0000\u0000korq\u0001KZX\u0003\u0000\u0000\u0000engq\u0002KZX\u0003\u0000\u0000\u0000matq\u0003KPu."
          ],
          "name": "stdout"
        }
      ]
    },
    {
      "cell_type": "code",
      "metadata": {
        "colab": {
          "base_uri": "https://localhost:8080/"
        },
        "id": "j7Dgnba71xze",
        "outputId": "b64dda2a-4d96-41d0-e519-3787287e1dc8"
      },
      "source": [
        "with open('binary.pkl', 'rb') as file:\n",
        "    new_scores = pickle.load(file)\n",
        "\n",
        "new_scores"
      ],
      "execution_count": null,
      "outputs": [
        {
          "output_type": "execute_result",
          "data": {
            "text/plain": [
              "{'eng': 90, 'kor': 90, 'mat': 80}"
            ]
          },
          "metadata": {
            "tags": []
          },
          "execution_count": 41
        }
      ]
    },
    {
      "cell_type": "code",
      "metadata": {
        "id": "G3IcYE5s2ZuX"
      },
      "source": [
        ""
      ],
      "execution_count": null,
      "outputs": []
    }
  ]
}