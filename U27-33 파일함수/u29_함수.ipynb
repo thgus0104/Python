{
  "nbformat": 4,
  "nbformat_minor": 0,
  "metadata": {
    "colab": {
      "name": "u29_함수.ipynb",
      "provenance": [],
      "collapsed_sections": []
    },
    "kernelspec": {
      "name": "python3",
      "display_name": "Python 3"
    },
    "language_info": {
      "name": "python"
    }
  },
  "cells": [
    {
      "cell_type": "markdown",
      "metadata": {
        "id": "0LSlVpcfJV2E"
      },
      "source": [
        "# Unit 29. 함수"
      ]
    },
    {
      "cell_type": "markdown",
      "metadata": {
        "id": "viAo4DikOkVo"
      },
      "source": [
        "## 29.1 출력 함수 만들기"
      ]
    },
    {
      "cell_type": "code",
      "metadata": {
        "id": "oH3JDvt6Cu5k"
      },
      "source": [
        "def hello():\n",
        "    print('Hello, world!')"
      ],
      "execution_count": null,
      "outputs": []
    },
    {
      "cell_type": "code",
      "metadata": {
        "colab": {
          "base_uri": "https://localhost:8080/"
        },
        "id": "tiE784CeO0Qt",
        "outputId": "ef4d1f0a-b6b8-40bf-d0b8-a1a5076bd75d"
      },
      "source": [
        "hello()"
      ],
      "execution_count": null,
      "outputs": [
        {
          "output_type": "stream",
          "text": [
            "Hello, world!\n"
          ],
          "name": "stdout"
        }
      ]
    },
    {
      "cell_type": "markdown",
      "metadata": {
        "id": "pAAA4uKVPtCR"
      },
      "source": [
        "## 29.2 덧셈 함수"
      ]
    },
    {
      "cell_type": "code",
      "metadata": {
        "id": "pXpNPr5lPvsJ"
      },
      "source": [
        "# 매개변수, parameter, argument\n",
        "def add(a, b):\n",
        "    print(a + b)"
      ],
      "execution_count": null,
      "outputs": []
    },
    {
      "cell_type": "code",
      "metadata": {
        "colab": {
          "base_uri": "https://localhost:8080/"
        },
        "id": "bAE2AW_3P--g",
        "outputId": "5b3cb26b-efbb-4d49-cb0b-54a01f61f0cb"
      },
      "source": [
        "add(4,5)"
      ],
      "execution_count": null,
      "outputs": [
        {
          "output_type": "stream",
          "text": [
            "9\n"
          ],
          "name": "stdout"
        }
      ]
    },
    {
      "cell_type": "code",
      "metadata": {
        "id": "VOJkg3JzQCKr"
      },
      "source": [
        "# Docstrings\n",
        "def add(a, b):\n",
        "    \"\"\"\n",
        "    이 함수는 a와 b를 더한 뒤 결과를 반환하는 함수입니다.\n",
        "    \"\"\"\n",
        "    print(a + b)"
      ],
      "execution_count": 2,
      "outputs": []
    },
    {
      "cell_type": "code",
      "metadata": {
        "id": "QBSTuwaQQ1tJ",
        "colab": {
          "base_uri": "https://localhost:8080/"
        },
        "outputId": "1e0ed9ad-5a76-49fb-84d6-5d970e22da45"
      },
      "source": [
        "# 도움말 호출\n",
        "print(add.__doc__)"
      ],
      "execution_count": 3,
      "outputs": [
        {
          "output_type": "stream",
          "text": [
            "\n",
            "    이 함수는 a와 b를 더한 뒤 결과를 반환하는 함수입니다.\n",
            "    \n"
          ],
          "name": "stdout"
        }
      ]
    },
    {
      "cell_type": "code",
      "metadata": {
        "id": "TlUleR5zQ6PC",
        "colab": {
          "base_uri": "https://localhost:8080/"
        },
        "outputId": "639486c9-c690-4f8f-dee2-7c11d2c36767"
      },
      "source": [
        "x = add(10, 20)\n",
        "print(x)"
      ],
      "execution_count": 5,
      "outputs": [
        {
          "output_type": "stream",
          "text": [
            "30\n",
            "None\n"
          ],
          "name": "stdout"
        }
      ]
    },
    {
      "cell_type": "markdown",
      "metadata": {
        "id": "-6H2B8UBRUZw"
      },
      "source": [
        "## 29.3 결과값 반환"
      ]
    },
    {
      "cell_type": "code",
      "metadata": {
        "id": "4XyQRyEoRI0v"
      },
      "source": [
        "def add(a,b):\n",
        "    return a+b"
      ],
      "execution_count": null,
      "outputs": []
    },
    {
      "cell_type": "code",
      "metadata": {
        "colab": {
          "base_uri": "https://localhost:8080/"
        },
        "id": "0dTVPCZeRmmJ",
        "outputId": "bb0fd021-e0e4-4138-8d12-f1e557a40a77"
      },
      "source": [
        "add(4,5), add(10,20)"
      ],
      "execution_count": null,
      "outputs": [
        {
          "output_type": "execute_result",
          "data": {
            "text/plain": [
              "(9, 30)"
            ]
          },
          "metadata": {
            "tags": []
          },
          "execution_count": 15
        }
      ]
    },
    {
      "cell_type": "code",
      "metadata": {
        "colab": {
          "base_uri": "https://localhost:8080/"
        },
        "id": "N-llnufERp56",
        "outputId": "b24cf3fb-3840-4f01-975d-8d2d74566f37"
      },
      "source": [
        "x = add(23,45)\n",
        "x"
      ],
      "execution_count": null,
      "outputs": [
        {
          "output_type": "execute_result",
          "data": {
            "text/plain": [
              "68"
            ]
          },
          "metadata": {
            "tags": []
          },
          "execution_count": 16
        }
      ]
    },
    {
      "cell_type": "code",
      "metadata": {
        "id": "dKVaV7JcR2ks"
      },
      "source": [
        "def is_ten(x):\n",
        "    return x==10"
      ],
      "execution_count": 7,
      "outputs": []
    },
    {
      "cell_type": "code",
      "metadata": {
        "colab": {
          "base_uri": "https://localhost:8080/"
        },
        "id": "1xJAssgHSFGB",
        "outputId": "e7a77e81-1952-459e-8570-60dfed228d3d"
      },
      "source": [
        "is_ten(101//10) #101을 10으로 나눈 몫"
      ],
      "execution_count": 9,
      "outputs": [
        {
          "output_type": "execute_result",
          "data": {
            "text/plain": [
              "True"
            ]
          },
          "metadata": {
            "tags": []
          },
          "execution_count": 9
        }
      ]
    },
    {
      "cell_type": "code",
      "metadata": {
        "id": "-BmsF8r3SLWT"
      },
      "source": [
        "def not_ten(x):\n",
        "    if x==10:\n",
        "        return\n",
        "    else:\n",
        "        print('It is not 10.')"
      ],
      "execution_count": 10,
      "outputs": []
    },
    {
      "cell_type": "code",
      "metadata": {
        "id": "fOHoPdeHS5-3"
      },
      "source": [
        "def not_ten(x):\n",
        "    if x==10:\n",
        "        return\n",
        "    print('It is not 10.')"
      ],
      "execution_count": 12,
      "outputs": []
    },
    {
      "cell_type": "code",
      "metadata": {
        "colab": {
          "base_uri": "https://localhost:8080/"
        },
        "id": "WRWUp4qaSaAW",
        "outputId": "bd9a6868-7f9b-449c-9f46-ababf73c8033"
      },
      "source": [
        "not_ten(5)"
      ],
      "execution_count": 11,
      "outputs": [
        {
          "output_type": "stream",
          "text": [
            "It is not 10.\n"
          ],
          "name": "stdout"
        }
      ]
    },
    {
      "cell_type": "code",
      "metadata": {
        "id": "fpCv133Myvrv"
      },
      "source": [
        "def not_ten(x):\n",
        "    if x==10:\n",
        "        return\n",
        "    print('It is not 10.')\n",
        "    #10이라면 return(빠져나오기) 아니라면 print이하"
      ],
      "execution_count": 18,
      "outputs": []
    },
    {
      "cell_type": "code",
      "metadata": {
        "id": "slkURZBUSe9s"
      },
      "source": [
        "not_ten(101//10) #값이 10이면 함수 탈출 (return을 쓰는 이유)"
      ],
      "execution_count": 16,
      "outputs": []
    },
    {
      "cell_type": "code",
      "metadata": {
        "colab": {
          "base_uri": "https://localhost:8080/"
        },
        "id": "sWDU7rn7y8fT",
        "outputId": "416046df-745f-4b98-fbda-f368ddab880a"
      },
      "source": [
        "not_ten(5)"
      ],
      "execution_count": 17,
      "outputs": [
        {
          "output_type": "stream",
          "text": [
            "It is not 10.\n"
          ],
          "name": "stdout"
        }
      ]
    },
    {
      "cell_type": "markdown",
      "metadata": {
        "id": "_jPUaXjdTYLc"
      },
      "source": [
        "## 29.4 여러개의 결과값 반환"
      ]
    },
    {
      "cell_type": "code",
      "metadata": {
        "id": "Yj-WmbMnSqgt"
      },
      "source": [
        "def add_sub(a,b):\n",
        "    return a+b, a-b"
      ],
      "execution_count": 21,
      "outputs": []
    },
    {
      "cell_type": "code",
      "metadata": {
        "id": "0x9hyQlQTh5S"
      },
      "source": [
        "x, y = add_sub(15,7)"
      ],
      "execution_count": 22,
      "outputs": []
    },
    {
      "cell_type": "code",
      "metadata": {
        "colab": {
          "base_uri": "https://localhost:8080/"
        },
        "id": "b5ezuSh7Tmjc",
        "outputId": "cc2af312-402d-4e51-e49b-ad8b75119953"
      },
      "source": [
        "x, y"
      ],
      "execution_count": 23,
      "outputs": [
        {
          "output_type": "execute_result",
          "data": {
            "text/plain": [
              "(22, 8)"
            ]
          },
          "metadata": {
            "tags": []
          },
          "execution_count": 23
        }
      ]
    },
    {
      "cell_type": "code",
      "metadata": {
        "colab": {
          "base_uri": "https://localhost:8080/"
        },
        "id": "7g60Kvwyzs1P",
        "outputId": "7422656f-a530-4fe4-e628-55d8cbc912d0"
      },
      "source": [
        "print(x)\n",
        "print(y)"
      ],
      "execution_count": 25,
      "outputs": [
        {
          "output_type": "stream",
          "text": [
            "22\n",
            "8\n"
          ],
          "name": "stdout"
        }
      ]
    },
    {
      "cell_type": "code",
      "metadata": {
        "colab": {
          "base_uri": "https://localhost:8080/"
        },
        "id": "NpegSnuNzkGs",
        "outputId": "b373af2d-3c1b-4c44-a53e-ee1ed1100de9"
      },
      "source": [
        "add_sub(15,10)"
      ],
      "execution_count": 24,
      "outputs": [
        {
          "output_type": "execute_result",
          "data": {
            "text/plain": [
              "(25, 5)"
            ]
          },
          "metadata": {
            "tags": []
          },
          "execution_count": 24
        }
      ]
    },
    {
      "cell_type": "markdown",
      "metadata": {
        "id": "jkcL-lxOUEwx"
      },
      "source": [
        "## 29.5 함수의 호출 과정"
      ]
    },
    {
      "cell_type": "code",
      "metadata": {
        "id": "F4US1ku8ToCz",
        "colab": {
          "base_uri": "https://localhost:8080/"
        },
        "outputId": "b15b45a5-b692-44d6-fb5b-2a4858f5857b"
      },
      "source": [
        "# Stack을 이용한다(LIFO)\n",
        "z=list(add_sub(14,12))\n",
        "z"
      ],
      "execution_count": 31,
      "outputs": [
        {
          "output_type": "execute_result",
          "data": {
            "text/plain": [
              "[26, 2]"
            ]
          },
          "metadata": {
            "tags": []
          },
          "execution_count": 31
        }
      ]
    },
    {
      "cell_type": "code",
      "metadata": {
        "colab": {
          "base_uri": "https://localhost:8080/"
        },
        "id": "fuE43B0I0fRx",
        "outputId": "5198b9e5-a277-49ed-c44d-41852f77a3b6"
      },
      "source": [
        "z.pop()"
      ],
      "execution_count": 32,
      "outputs": [
        {
          "output_type": "execute_result",
          "data": {
            "text/plain": [
              "2"
            ]
          },
          "metadata": {
            "tags": []
          },
          "execution_count": 32
        }
      ]
    },
    {
      "cell_type": "markdown",
      "metadata": {
        "id": "GCz4E6QsVK7K"
      },
      "source": [
        "## 연습 문제\n",
        "- 3자리수 정수 두개를 곱해서 나온 결과가 팔린드롬(Palindrome)이 되도록 할 때, 가장 큰 숫자는?\n",
        "#이해안됨"
      ]
    },
    {
      "cell_type": "code",
      "metadata": {
        "id": "D37EYaqObg_p"
      },
      "source": [
        "def is_palindrome(x):\n",
        "    s = str(x)\n",
        "    return s == s[::-1]"
      ],
      "execution_count": null,
      "outputs": []
    },
    {
      "cell_type": "code",
      "metadata": {
        "colab": {
          "base_uri": "https://localhost:8080/"
        },
        "id": "HL-frtX_dEEg",
        "outputId": "bfe51296-09c8-4495-bbd3-d77619fd46fa"
      },
      "source": [
        "is_palindrome(12345), is_palindrome(906609)"
      ],
      "execution_count": null,
      "outputs": [
        {
          "output_type": "execute_result",
          "data": {
            "text/plain": [
              "(False, True)"
            ]
          },
          "metadata": {
            "tags": []
          },
          "execution_count": 31
        }
      ]
    },
    {
      "cell_type": "code",
      "metadata": {
        "colab": {
          "base_uri": "https://localhost:8080/"
        },
        "id": "3GP9zg5ZVbbH",
        "outputId": "01b714e4-df75-47e8-ac33-b88b11378176"
      },
      "source": [
        "max_pal, m, n = 0, 0, 0\n",
        "for i in range(100, 1000):\n",
        "    for k in range(i, 1000):\n",
        "        if is_palindrome(i*k):\n",
        "            if i*k > max_pal:\n",
        "                max_pal, m, n = i*k, i, k\n",
        "\n",
        "print(f'{m} x {n} = {max_pal}')"
      ],
      "execution_count": null,
      "outputs": [
        {
          "output_type": "stream",
          "text": [
            "913 x 993 = 906609\n"
          ],
          "name": "stdout"
        }
      ]
    },
    {
      "cell_type": "code",
      "metadata": {
        "id": "0svujTJJeIKL"
      },
      "source": [
        ""
      ],
      "execution_count": null,
      "outputs": []
    }
  ]
}